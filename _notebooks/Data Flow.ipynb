{
 "cells": [
  {
   "cell_type": "markdown",
   "metadata": {},
   "source": [
    "# The Flow of transforms and functions\n",
    "\n",
    "> Understanding the DataBlocks API in FastAI V2, through exploration\n",
    "\n",
    "- comments: true\n",
    "- toc: true\n",
    "- badges: true\n",
    "- categories: [datablocks, fastai2]"
   ]
  },
  {
   "cell_type": "markdown",
   "metadata": {},
   "source": [
    "`DataBlock` API is the building block of the FastAI V2. It provides a way to specify all the transformations for the input data to make it ready to be available for the model to consume for training. The parameters that are passes to create a `DataBlock` has a significant value. Lets explore the values one by one.\n",
    "\n",
    "Now lets import `DataBlock` API. The `DataBlock` API base class is available in `fastai2.data.block`. Lets import that."
   ]
  },
  {
   "cell_type": "code",
   "execution_count": 1,
   "metadata": {},
   "outputs": [
    {
     "data": {
      "text/plain": [
       "fastai2.data.block.DataBlock"
      ]
     },
     "execution_count": 1,
     "metadata": {},
     "output_type": "execute_result"
    }
   ],
   "source": [
    "from fastai2.data.block import *\n",
    "DataBlock"
   ]
  },
  {
   "cell_type": "markdown",
   "metadata": {},
   "source": [
    "`show_doc` is a easy tool to look at the documentation of the API. Lets see what parameters it has."
   ]
  },
  {
   "cell_type": "code",
   "execution_count": 2,
   "metadata": {},
   "outputs": [
    {
     "data": {
      "text/markdown": [
       "<h2 id=\"DataBlock\" class=\"doc_header\"><code>class</code> <code>DataBlock</code><a href=\"https://github.com/fastai/fastai2/tree/master/fastai2/data/block.py#L52\" class=\"source_link\" style=\"float:right\">[source]</a></h2>\n",
       "\n",
       "> <code>DataBlock</code>(**`blocks`**=*`None`*, **`dl_type`**=*`None`*, **`getters`**=*`None`*, **`n_inp`**=*`None`*, **`item_tfms`**=*`None`*, **`batch_tfms`**=*`None`*, **`get_items`**=*`None`*, **`splitter`**=*`None`*, **`get_y`**=*`None`*, **`get_x`**=*`None`*)\n",
       "\n",
       "Generic container to quickly build `Datasets` and `DataLoaders`"
      ],
      "text/plain": [
       "<IPython.core.display.Markdown object>"
      ]
     },
     "metadata": {},
     "output_type": "display_data"
    }
   ],
   "source": [
    "#hide\n",
    "from nbdev.showdoc import show_doc\n",
    "show_doc(DataBlock)"
   ]
  },
  {
   "cell_type": "markdown",
   "metadata": {},
   "source": [
    "As the definition says, it is a container that helps to quickly build `Datasets` and `DataLoaders`.\n",
    "\n",
    "Let's rather go through each parameter and why and when it is called."
   ]
  },
  {
   "cell_type": "markdown",
   "metadata": {},
   "source": [
    "## Going through the Source Code of `DataBlock`"
   ]
  },
  {
   "cell_type": "markdown",
   "metadata": {},
   "source": [
    "There is a convenient way in Jupyter notebook to look into the code. (i.e) adding `??` before or after the class or method of interest. We do that. "
   ]
  },
  {
   "cell_type": "code",
   "execution_count": 3,
   "metadata": {},
   "outputs": [],
   "source": [
    "DataBlock??"
   ]
  },
  {
   "cell_type": "markdown",
   "metadata": {},
   "source": [
    "Note that the code would not show up as a regular output but as a pop up. It wont showup in the blog as well. But you will be able to see in the notebook version of the post when the previous code is ran. "
   ]
  },
  {
   "cell_type": "markdown",
   "metadata": {},
   "source": [
    "### Parameters Analysis"
   ]
  },
  {
   "cell_type": "markdown",
   "metadata": {},
   "source": [
    "Lets look at the parameters one by one."
   ]
  },
  {
   "cell_type": "markdown",
   "metadata": {},
   "source": [
    "#### `blocks`\n",
    "\n",
    "`blocks` parameter takes in a tuple of `TransformBlock`s. Each `TransformBlock` will represent wach data point that is required in the model (ie) each dependent and independent variable. \n",
    "\n",
    "For instance, if we are doing a Image Classification, we will have a block saying `ImageBlock` to deal with Image transformations.\n",
    "\n",
    "The advantage of having a Block form each variable or data point is that we might have some transformations that are to be done for each type. For example, Images will have some meaningful `type_tfms`,`batch_tfms`such as opening the image file, converting the tensor to Float from Int in case of `ImageBlock`.\n",
    "\n",
    "We have options to do `item_tfms` as well, along with `dl_type` and its `kwargs`. Read the docs for more info."
   ]
  },
  {
   "cell_type": "markdown",
   "metadata": {},
   "source": [
    "#### `dl_type`\n",
    "\n",
    "`dl_type` parameter is the optional one where we can pass the dataloader to use. By default it is `TfmdDL`"
   ]
  },
  {
   "cell_type": "markdown",
   "metadata": {},
   "source": [
    "#### `getters`\n",
    "`getters` parameter is used to pass the list of getters on how to get the data for each of the data points (Independent and Dependent Variables) from the given data source. Each function passed ass list to this function could return the data point of interest"
   ]
  },
  {
   "cell_type": "markdown",
   "metadata": {},
   "source": [
    "#### `get_x`\n",
    "`get_x` parameter is a convinient function that can be used to get the X variable if there is only one input variable and one output variable. We can fall back to `getters` if there are more than one independent or dependent variable"
   ]
  },
  {
   "cell_type": "markdown",
   "metadata": {},
   "source": [
    "#### `get_y`\n",
    "`get_y` parameter is a convinient function that can be used to get the y variable if there is only one input variable and one output variable. We can fall back to `getters` if there are more than one independent or dependent variable"
   ]
  },
  {
   "cell_type": "markdown",
   "metadata": {},
   "source": [
    "#### `get_items`\n",
    "`get_items` parameter is a function that is called before getters"
   ]
  },
  {
   "cell_type": "code",
   "execution_count": 9,
   "metadata": {},
   "outputs": [
    {
     "data": {
      "text/markdown": [
       "<h4 id=\"ImageDataLoaders.from_name_func\" class=\"doc_header\"><code>ImageDataLoaders.from_name_func</code><a href=\"https://github.com/fastai/fastai2/tree/master/fastai2/vision/data.py#L107\" class=\"source_link\" style=\"float:right\">[source]</a></h4>\n",
       "\n",
       "> <code>ImageDataLoaders.from_name_func</code>(**`path`**, **`fnames`**, **`label_func`**, **`valid_pct`**=*`0.2`*, **`seed`**=*`None`*, **`item_tfms`**=*`None`*, **`batch_tfms`**=*`None`*, **`bs`**=*`64`*, **`val_bs`**=*`None`*, **`shuffle_train`**=*`True`*, **`device`**=*`None`*)\n",
       "\n",
       "Create from the name attrs of `fnames` in `path`s with `label_func`"
      ],
      "text/plain": [
       "<IPython.core.display.Markdown object>"
      ]
     },
     "metadata": {},
     "output_type": "display_data"
    }
   ],
   "source": [
    "from fastai2.vision.all import *\n",
    "show_doc(ImageDataLoaders.from_name_func)"
   ]
  },
  {
   "cell_type": "code",
   "execution_count": null,
   "metadata": {},
   "outputs": [],
   "source": []
  }
 ],
 "metadata": {
  "kernelspec": {
   "display_name": "fastai2",
   "language": "python",
   "name": "fastai2"
  },
  "language_info": {
   "codemirror_mode": {
    "name": "ipython",
    "version": 3
   },
   "file_extension": ".py",
   "mimetype": "text/x-python",
   "name": "python",
   "nbconvert_exporter": "python",
   "pygments_lexer": "ipython3",
   "version": "3.7.3"
  }
 },
 "nbformat": 4,
 "nbformat_minor": 2
}
