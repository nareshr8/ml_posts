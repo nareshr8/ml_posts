{
 "cells": [
  {
   "cell_type": "markdown",
   "metadata": {},
   "source": [
    "# X-Ray Diffractions Detector\n",
    "> A Multi-Label Image Classification\n",
    "\n",
    "- comments: true\n",
    "- toc: true\n",
    "- badges: true\n",
    "- categories: [image-classifer, fastai2]"
   ]
  },
  {
   "cell_type": "markdown",
   "metadata": {},
   "source": [
    "This program is try to do something that I have no idea to detect if it is even distantly correct. I was able to find a peculiar dataset called X-Ray Defraction Imageset thanks to Czyzewski et. al. The imageset was downloaded for traning the dataset from the link available [here](https://zenodo.org/record/2605120#.XqAU3nVfg5m). I love to try out something new as a hobby and see how it works out to be."
   ]
  },
  {
   "cell_type": "markdown",
   "metadata": {},
   "source": [
    "Czyzewski, Adam, Krawiec, Faustyna, Brzezinski, Dariusz, & Porebski, Przemyslaw J. (2019). RefleX: X-ray diffraction images dataset (Version 1.0.0) [Data set]. Zenodo. http://doi.org/10.5281/zenodo.2605120\n",
    "\n",
    "X-Ray Defraction Imageset from [here](https://zenodo.org/record/2605120#.XpcIN3Vfg5l)"
   ]
  },
  {
   "cell_type": "markdown",
   "metadata": {},
   "source": [
    "## Tracking Experiments"
   ]
  },
  {
   "cell_type": "markdown",
   "metadata": {},
   "source": [
    "Now we are going to explore options on how to get our accuracy high enough. We have various tools that track the experiments that were done. Having such things help us to understand what hyper parameters to choose and get intutions on what experiments to try. \n",
    "\n",
    "We are going to use [WandB](https://www.wandb.com) which is one amoung the top tools used.\n",
    "\n",
    "I may use this for klogging my experiments. However, Since the one that gave the best result is shown below, its trivial if you use WandB and WandBCallback."
   ]
  },
  {
   "cell_type": "code",
   "execution_count": 1,
   "metadata": {},
   "outputs": [],
   "source": [
    "#collapse\n",
    "import os\n",
    "os.environ['WANDB_BASE_URL'] = 'http://localhost:8080'\n",
    "from fastai2.callback.wandb import wandb,WandbCallback"
   ]
  },
  {
   "cell_type": "markdown",
   "metadata": {},
   "source": [
    "## Extract Data"
   ]
  },
  {
   "cell_type": "markdown",
   "metadata": {},
   "source": [
    "If you havent extracted the zip file, the first step might be to extract it. The extraction can be manual or can be done using Python"
   ]
  },
  {
   "cell_type": "code",
   "execution_count": 2,
   "metadata": {},
   "outputs": [],
   "source": [
    "#hide\n",
    "from zipfile import ZipFile\n",
    "with ZipFile('zip_file_location', 'r') as zipObj:\n",
    "   # Extract all the contents of zip file in different directory\n",
    "   zipObj.extractall(Path(\"../../data/Multi-label/images\"))"
   ]
  },
  {
   "cell_type": "markdown",
   "metadata": {},
   "source": [
    "## Setup the notebook"
   ]
  },
  {
   "cell_type": "markdown",
   "metadata": {},
   "source": [
    "The first step might be to setup the notebook and set path correctly. This will remove all possible hindrences on later.\n",
    "\n",
    "Lets just import the required libraries from `fastai2`. As it is a vision task we shall try importing `fastai2.vision`\n",
    "\n",
    "Also the file that maps the labels to the images is a CSV. we know `pandas` is good at tabular data and is the most convinent way to handle CSV data. So, we include that as well"
   ]
  },
  {
   "cell_type": "code",
   "execution_count": 2,
   "metadata": {},
   "outputs": [],
   "source": [
    "from fastai2.vision.all import *\n",
    "from fastai2.vision.widgets import *\n",
    "import pandas as pd "
   ]
  },
  {
   "cell_type": "markdown",
   "metadata": {},
   "source": [
    "We create `path` variable to be pointing to the location wherever it is downloaded"
   ]
  },
  {
   "cell_type": "code",
   "execution_count": 3,
   "metadata": {},
   "outputs": [],
   "source": [
    "#collapse\n",
    "path=Path(\"../../data/Multi-label/\")\n",
    "Path.BASE_PATH = path"
   ]
  },
  {
   "cell_type": "markdown",
   "metadata": {},
   "source": [
    ">`Path` from `pathlib` by itself doesn't have a convenience function to list all child files/folders. we may have to actually do `list(path.iterdir())` to get that. Fast-AI however has made a convenient function `.ls()` that gets overloaded as we import the library  "
   ]
  },
  {
   "cell_type": "code",
   "execution_count": 4,
   "metadata": {},
   "outputs": [
    {
     "data": {
      "text/plain": [
       "(#3) [Path('images'),Path('labels.csv'),Path('reflex_img_1024_inter_nearest.zip')]"
      ]
     },
     "execution_count": 4,
     "metadata": {},
     "output_type": "execute_result"
    }
   ],
   "source": [
    "files=path.ls()\n",
    "files"
   ]
  },
  {
   "cell_type": "markdown",
   "metadata": {},
   "source": [
    "Here we see that the images are available in the `images` folder and the label-image mapping is done in `labels.csv`. The original downloaded zip file is the other `reflex_img_1024_inter_nearest.zip` file that is available. However it is never used in this program"
   ]
  },
  {
   "cell_type": "markdown",
   "metadata": {},
   "source": [
    "## Analysis"
   ]
  },
  {
   "cell_type": "markdown",
   "metadata": {},
   "source": [
    "I have no idea how the data is in the CSV or image. Lets just load the data and have a look at it"
   ]
  },
  {
   "cell_type": "code",
   "execution_count": 5,
   "metadata": {},
   "outputs": [
    {
     "data": {
      "text/html": [
       "<div>\n",
       "<style scoped>\n",
       "    .dataframe tbody tr th:only-of-type {\n",
       "        vertical-align: middle;\n",
       "    }\n",
       "\n",
       "    .dataframe tbody tr th {\n",
       "        vertical-align: top;\n",
       "    }\n",
       "\n",
       "    .dataframe thead th {\n",
       "        text-align: right;\n",
       "    }\n",
       "</style>\n",
       "<table border=\"1\" class=\"dataframe\">\n",
       "  <thead>\n",
       "    <tr style=\"text-align: right;\">\n",
       "      <th></th>\n",
       "      <th>image</th>\n",
       "      <th>loop_scattering</th>\n",
       "      <th>background_ring</th>\n",
       "      <th>strong_background</th>\n",
       "      <th>diffuse_scattering</th>\n",
       "      <th>artifact</th>\n",
       "      <th>ice_ring</th>\n",
       "      <th>non_uniform_detector</th>\n",
       "    </tr>\n",
       "  </thead>\n",
       "  <tbody>\n",
       "    <tr>\n",
       "      <th>0</th>\n",
       "      <td>152803_2_0001</td>\n",
       "      <td>1</td>\n",
       "      <td>0</td>\n",
       "      <td>1</td>\n",
       "      <td>0</td>\n",
       "      <td>0</td>\n",
       "      <td>0</td>\n",
       "      <td>0</td>\n",
       "    </tr>\n",
       "    <tr>\n",
       "      <th>1</th>\n",
       "      <td>81258_1_E1_001</td>\n",
       "      <td>1</td>\n",
       "      <td>1</td>\n",
       "      <td>1</td>\n",
       "      <td>0</td>\n",
       "      <td>0</td>\n",
       "      <td>0</td>\n",
       "      <td>0</td>\n",
       "    </tr>\n",
       "    <tr>\n",
       "      <th>2</th>\n",
       "      <td>HMCb11_AY6-7_00001</td>\n",
       "      <td>0</td>\n",
       "      <td>1</td>\n",
       "      <td>1</td>\n",
       "      <td>0</td>\n",
       "      <td>1</td>\n",
       "      <td>0</td>\n",
       "      <td>0</td>\n",
       "    </tr>\n",
       "    <tr>\n",
       "      <th>3</th>\n",
       "      <td>195706_1_E2_00001</td>\n",
       "      <td>0</td>\n",
       "      <td>0</td>\n",
       "      <td>0</td>\n",
       "      <td>0</td>\n",
       "      <td>1</td>\n",
       "      <td>1</td>\n",
       "      <td>0</td>\n",
       "    </tr>\n",
       "    <tr>\n",
       "      <th>4</th>\n",
       "      <td>nui1-10_1_001</td>\n",
       "      <td>1</td>\n",
       "      <td>1</td>\n",
       "      <td>1</td>\n",
       "      <td>0</td>\n",
       "      <td>0</td>\n",
       "      <td>0</td>\n",
       "      <td>0</td>\n",
       "    </tr>\n",
       "    <tr>\n",
       "      <th>...</th>\n",
       "      <td>...</td>\n",
       "      <td>...</td>\n",
       "      <td>...</td>\n",
       "      <td>...</td>\n",
       "      <td>...</td>\n",
       "      <td>...</td>\n",
       "      <td>...</td>\n",
       "      <td>...</td>\n",
       "    </tr>\n",
       "    <tr>\n",
       "      <th>6306</th>\n",
       "      <td>wjm1-6</td>\n",
       "      <td>0</td>\n",
       "      <td>1</td>\n",
       "      <td>0</td>\n",
       "      <td>0</td>\n",
       "      <td>0</td>\n",
       "      <td>0</td>\n",
       "      <td>0</td>\n",
       "    </tr>\n",
       "    <tr>\n",
       "      <th>6307</th>\n",
       "      <td>xtal-C7-eg.0001</td>\n",
       "      <td>0</td>\n",
       "      <td>0</td>\n",
       "      <td>0</td>\n",
       "      <td>0</td>\n",
       "      <td>0</td>\n",
       "      <td>0</td>\n",
       "      <td>1</td>\n",
       "    </tr>\n",
       "    <tr>\n",
       "      <th>6308</th>\n",
       "      <td>AR1_IF0130_screen_0001</td>\n",
       "      <td>0</td>\n",
       "      <td>0</td>\n",
       "      <td>1</td>\n",
       "      <td>0</td>\n",
       "      <td>1</td>\n",
       "      <td>0</td>\n",
       "      <td>1</td>\n",
       "    </tr>\n",
       "    <tr>\n",
       "      <th>6309</th>\n",
       "      <td>215574f10_x0001</td>\n",
       "      <td>1</td>\n",
       "      <td>1</td>\n",
       "      <td>1</td>\n",
       "      <td>0</td>\n",
       "      <td>0</td>\n",
       "      <td>0</td>\n",
       "      <td>0</td>\n",
       "    </tr>\n",
       "    <tr>\n",
       "      <th>6310</th>\n",
       "      <td>63667_1_E2</td>\n",
       "      <td>1</td>\n",
       "      <td>0</td>\n",
       "      <td>0</td>\n",
       "      <td>0</td>\n",
       "      <td>0</td>\n",
       "      <td>1</td>\n",
       "      <td>0</td>\n",
       "    </tr>\n",
       "  </tbody>\n",
       "</table>\n",
       "<p>6311 rows × 8 columns</p>\n",
       "</div>"
      ],
      "text/plain": [
       "                       image  loop_scattering  background_ring  \\\n",
       "0              152803_2_0001                1                0   \n",
       "1             81258_1_E1_001                1                1   \n",
       "2         HMCb11_AY6-7_00001                0                1   \n",
       "3          195706_1_E2_00001                0                0   \n",
       "4              nui1-10_1_001                1                1   \n",
       "...                      ...              ...              ...   \n",
       "6306                  wjm1-6                0                1   \n",
       "6307         xtal-C7-eg.0001                0                0   \n",
       "6308  AR1_IF0130_screen_0001                0                0   \n",
       "6309         215574f10_x0001                1                1   \n",
       "6310              63667_1_E2                1                0   \n",
       "\n",
       "      strong_background  diffuse_scattering  artifact  ice_ring  \\\n",
       "0                     1                   0         0         0   \n",
       "1                     1                   0         0         0   \n",
       "2                     1                   0         1         0   \n",
       "3                     0                   0         1         1   \n",
       "4                     1                   0         0         0   \n",
       "...                 ...                 ...       ...       ...   \n",
       "6306                  0                   0         0         0   \n",
       "6307                  0                   0         0         0   \n",
       "6308                  1                   0         1         0   \n",
       "6309                  1                   0         0         0   \n",
       "6310                  0                   0         0         1   \n",
       "\n",
       "      non_uniform_detector  \n",
       "0                        0  \n",
       "1                        0  \n",
       "2                        0  \n",
       "3                        0  \n",
       "4                        0  \n",
       "...                    ...  \n",
       "6306                     0  \n",
       "6307                     1  \n",
       "6308                     1  \n",
       "6309                     0  \n",
       "6310                     0  \n",
       "\n",
       "[6311 rows x 8 columns]"
      ]
     },
     "execution_count": 5,
     "metadata": {},
     "output_type": "execute_result"
    }
   ],
   "source": [
    "labels_df=pd.read_csv(path/'labels.csv')\n",
    "labels_df"
   ]
  },
  {
   "cell_type": "markdown",
   "metadata": {},
   "source": [
    "Now we see that the CSV has `image` as the first column and columns that representing the label as list of columns each reflecting 1 or 0 as in True or False.\n",
    "\n",
    "There are totally 6311 samples. We also see that the number of columns available are 8. 1 input (Image file name) and the 7 probable classes."
   ]
  },
  {
   "cell_type": "markdown",
   "metadata": {},
   "source": [
    "## Data Munching"
   ]
  },
  {
   "cell_type": "markdown",
   "metadata": {},
   "source": [
    "All the label columns are having values as 0 or 1. This is one of the ways to directly feed this as on-hot encoded vector to the model. But we may have inconvinence in interpreting 0 and 1 and mapping columns.\n",
    "\n",
    "If we let `fastai2` do the `one-hot-encoding`, we may have some extra convience in interpreting the model output. So I prefer to have the labels as the actual string with comma seperation between those columns. I do that in the following steps.\n",
    "\n",
    "- Get all label columns\n",
    "- For each row, if the label is marked as present (i.e) value is 1, then add that to the string\n",
    "- Add a new column `labels` with the label names of the ones that just exist"
   ]
  },
  {
   "cell_type": "code",
   "execution_count": 6,
   "metadata": {},
   "outputs": [],
   "source": [
    "y_cols=list(labels_df.columns[1:])"
   ]
  },
  {
   "cell_type": "code",
   "execution_count": 7,
   "metadata": {},
   "outputs": [],
   "source": [
    "def get_labels(row):\n",
    "    return ', '.join([col for col in y_cols if row[col]==1])"
   ]
  },
  {
   "cell_type": "code",
   "execution_count": 8,
   "metadata": {},
   "outputs": [],
   "source": [
    "labels_df['labels']=labels_df.apply(get_labels,axis=1)"
   ]
  },
  {
   "cell_type": "markdown",
   "metadata": {},
   "source": [
    "We have made up a new column `labels` which lists the labels for that image. Lets see if we got it right"
   ]
  },
  {
   "cell_type": "code",
   "execution_count": 9,
   "metadata": {},
   "outputs": [
    {
     "data": {
      "text/html": [
       "<div>\n",
       "<style scoped>\n",
       "    .dataframe tbody tr th:only-of-type {\n",
       "        vertical-align: middle;\n",
       "    }\n",
       "\n",
       "    .dataframe tbody tr th {\n",
       "        vertical-align: top;\n",
       "    }\n",
       "\n",
       "    .dataframe thead th {\n",
       "        text-align: right;\n",
       "    }\n",
       "</style>\n",
       "<table border=\"1\" class=\"dataframe\">\n",
       "  <thead>\n",
       "    <tr style=\"text-align: right;\">\n",
       "      <th></th>\n",
       "      <th>image</th>\n",
       "      <th>loop_scattering</th>\n",
       "      <th>background_ring</th>\n",
       "      <th>strong_background</th>\n",
       "      <th>diffuse_scattering</th>\n",
       "      <th>artifact</th>\n",
       "      <th>ice_ring</th>\n",
       "      <th>non_uniform_detector</th>\n",
       "      <th>labels</th>\n",
       "    </tr>\n",
       "  </thead>\n",
       "  <tbody>\n",
       "    <tr>\n",
       "      <th>0</th>\n",
       "      <td>152803_2_0001</td>\n",
       "      <td>1</td>\n",
       "      <td>0</td>\n",
       "      <td>1</td>\n",
       "      <td>0</td>\n",
       "      <td>0</td>\n",
       "      <td>0</td>\n",
       "      <td>0</td>\n",
       "      <td>loop_scattering, strong_background</td>\n",
       "    </tr>\n",
       "    <tr>\n",
       "      <th>1</th>\n",
       "      <td>81258_1_E1_001</td>\n",
       "      <td>1</td>\n",
       "      <td>1</td>\n",
       "      <td>1</td>\n",
       "      <td>0</td>\n",
       "      <td>0</td>\n",
       "      <td>0</td>\n",
       "      <td>0</td>\n",
       "      <td>loop_scattering, background_ring, strong_background</td>\n",
       "    </tr>\n",
       "    <tr>\n",
       "      <th>2</th>\n",
       "      <td>HMCb11_AY6-7_00001</td>\n",
       "      <td>0</td>\n",
       "      <td>1</td>\n",
       "      <td>1</td>\n",
       "      <td>0</td>\n",
       "      <td>1</td>\n",
       "      <td>0</td>\n",
       "      <td>0</td>\n",
       "      <td>background_ring, strong_background, artifact</td>\n",
       "    </tr>\n",
       "    <tr>\n",
       "      <th>3</th>\n",
       "      <td>195706_1_E2_00001</td>\n",
       "      <td>0</td>\n",
       "      <td>0</td>\n",
       "      <td>0</td>\n",
       "      <td>0</td>\n",
       "      <td>1</td>\n",
       "      <td>1</td>\n",
       "      <td>0</td>\n",
       "      <td>artifact, ice_ring</td>\n",
       "    </tr>\n",
       "    <tr>\n",
       "      <th>4</th>\n",
       "      <td>nui1-10_1_001</td>\n",
       "      <td>1</td>\n",
       "      <td>1</td>\n",
       "      <td>1</td>\n",
       "      <td>0</td>\n",
       "      <td>0</td>\n",
       "      <td>0</td>\n",
       "      <td>0</td>\n",
       "      <td>loop_scattering, background_ring, strong_background</td>\n",
       "    </tr>\n",
       "    <tr>\n",
       "      <th>...</th>\n",
       "      <td>...</td>\n",
       "      <td>...</td>\n",
       "      <td>...</td>\n",
       "      <td>...</td>\n",
       "      <td>...</td>\n",
       "      <td>...</td>\n",
       "      <td>...</td>\n",
       "      <td>...</td>\n",
       "      <td>...</td>\n",
       "    </tr>\n",
       "    <tr>\n",
       "      <th>6306</th>\n",
       "      <td>wjm1-6</td>\n",
       "      <td>0</td>\n",
       "      <td>1</td>\n",
       "      <td>0</td>\n",
       "      <td>0</td>\n",
       "      <td>0</td>\n",
       "      <td>0</td>\n",
       "      <td>0</td>\n",
       "      <td>background_ring</td>\n",
       "    </tr>\n",
       "    <tr>\n",
       "      <th>6307</th>\n",
       "      <td>xtal-C7-eg.0001</td>\n",
       "      <td>0</td>\n",
       "      <td>0</td>\n",
       "      <td>0</td>\n",
       "      <td>0</td>\n",
       "      <td>0</td>\n",
       "      <td>0</td>\n",
       "      <td>1</td>\n",
       "      <td>non_uniform_detector</td>\n",
       "    </tr>\n",
       "    <tr>\n",
       "      <th>6308</th>\n",
       "      <td>AR1_IF0130_screen_0001</td>\n",
       "      <td>0</td>\n",
       "      <td>0</td>\n",
       "      <td>1</td>\n",
       "      <td>0</td>\n",
       "      <td>1</td>\n",
       "      <td>0</td>\n",
       "      <td>1</td>\n",
       "      <td>strong_background, artifact, non_uniform_detector</td>\n",
       "    </tr>\n",
       "    <tr>\n",
       "      <th>6309</th>\n",
       "      <td>215574f10_x0001</td>\n",
       "      <td>1</td>\n",
       "      <td>1</td>\n",
       "      <td>1</td>\n",
       "      <td>0</td>\n",
       "      <td>0</td>\n",
       "      <td>0</td>\n",
       "      <td>0</td>\n",
       "      <td>loop_scattering, background_ring, strong_background</td>\n",
       "    </tr>\n",
       "    <tr>\n",
       "      <th>6310</th>\n",
       "      <td>63667_1_E2</td>\n",
       "      <td>1</td>\n",
       "      <td>0</td>\n",
       "      <td>0</td>\n",
       "      <td>0</td>\n",
       "      <td>0</td>\n",
       "      <td>1</td>\n",
       "      <td>0</td>\n",
       "      <td>loop_scattering, ice_ring</td>\n",
       "    </tr>\n",
       "  </tbody>\n",
       "</table>\n",
       "<p>6311 rows × 9 columns</p>\n",
       "</div>"
      ],
      "text/plain": [
       "                       image  loop_scattering  background_ring  \\\n",
       "0              152803_2_0001                1                0   \n",
       "1             81258_1_E1_001                1                1   \n",
       "2         HMCb11_AY6-7_00001                0                1   \n",
       "3          195706_1_E2_00001                0                0   \n",
       "4              nui1-10_1_001                1                1   \n",
       "...                      ...              ...              ...   \n",
       "6306                  wjm1-6                0                1   \n",
       "6307         xtal-C7-eg.0001                0                0   \n",
       "6308  AR1_IF0130_screen_0001                0                0   \n",
       "6309         215574f10_x0001                1                1   \n",
       "6310              63667_1_E2                1                0   \n",
       "\n",
       "      strong_background  diffuse_scattering  artifact  ice_ring  \\\n",
       "0                     1                   0         0         0   \n",
       "1                     1                   0         0         0   \n",
       "2                     1                   0         1         0   \n",
       "3                     0                   0         1         1   \n",
       "4                     1                   0         0         0   \n",
       "...                 ...                 ...       ...       ...   \n",
       "6306                  0                   0         0         0   \n",
       "6307                  0                   0         0         0   \n",
       "6308                  1                   0         1         0   \n",
       "6309                  1                   0         0         0   \n",
       "6310                  0                   0         0         1   \n",
       "\n",
       "      non_uniform_detector  \\\n",
       "0                        0   \n",
       "1                        0   \n",
       "2                        0   \n",
       "3                        0   \n",
       "4                        0   \n",
       "...                    ...   \n",
       "6306                     0   \n",
       "6307                     1   \n",
       "6308                     1   \n",
       "6309                     0   \n",
       "6310                     0   \n",
       "\n",
       "                                                   labels  \n",
       "0                      loop_scattering, strong_background  \n",
       "1     loop_scattering, background_ring, strong_background  \n",
       "2            background_ring, strong_background, artifact  \n",
       "3                                      artifact, ice_ring  \n",
       "4     loop_scattering, background_ring, strong_background  \n",
       "...                                                   ...  \n",
       "6306                                      background_ring  \n",
       "6307                                 non_uniform_detector  \n",
       "6308    strong_background, artifact, non_uniform_detector  \n",
       "6309  loop_scattering, background_ring, strong_background  \n",
       "6310                            loop_scattering, ice_ring  \n",
       "\n",
       "[6311 rows x 9 columns]"
      ]
     },
     "execution_count": 9,
     "metadata": {},
     "output_type": "execute_result"
    }
   ],
   "source": [
    "labels_df"
   ]
  },
  {
   "cell_type": "markdown",
   "metadata": {},
   "source": [
    "There are 6311 rows. which means there should be atleast 6311 images in the file"
   ]
  },
  {
   "cell_type": "code",
   "execution_count": 10,
   "metadata": {},
   "outputs": [
    {
     "data": {
      "text/plain": [
       "6312"
      ]
     },
     "execution_count": 10,
     "metadata": {},
     "output_type": "execute_result"
    }
   ],
   "source": [
    "len(Path(path/\"images\").ls())"
   ]
  },
  {
   "cell_type": "markdown",
   "metadata": {},
   "source": [
    "We have one more than required. Lets see if we have any non `.png` file or folders"
   ]
  },
  {
   "cell_type": "code",
   "execution_count": 11,
   "metadata": {},
   "outputs": [
    {
     "data": {
      "text/plain": [
       "(#1) [Path('images/models')]"
      ]
     },
     "execution_count": 11,
     "metadata": {},
     "output_type": "execute_result"
    }
   ],
   "source": [
    "Path(path/\"images\").ls().filter(lambda x: x.suffix!='.png')"
   ]
  },
  {
   "cell_type": "markdown",
   "metadata": {},
   "source": [
    "Ok. There seems to be an empty models folder present in `images` folder."
   ]
  },
  {
   "cell_type": "markdown",
   "metadata": {},
   "source": [
    "Ok. Now lets look at random image"
   ]
  },
  {
   "cell_type": "code",
   "execution_count": 12,
   "metadata": {
    "scrolled": true
   },
   "outputs": [
    {
     "data": {
      "image/png": "[encoded data removed]",
      "text/plain": [
       "<PIL.PngImagePlugin.PngImageFile image mode=L size=100x100 at 0x7FAC2AC45590>"
      ]
     },
     "execution_count": 12,
     "metadata": {},
     "output_type": "execute_result"
    }
   ],
   "source": [
    "from random import randint\n",
    "total_count=len(Path(path/\"images\").ls())-1 # Discount the models folder\n",
    "index= randint(0,total_count)\n",
    "image_paths=Path(path/\"images\").ls().filter(lambda x: x.suffix=='.png')\n",
    "image_path=image_paths[index]\n",
    "im = Image.open(image_path)\n",
    "im.thumbnail((100,100))\n",
    "im"
   ]
  },
  {
   "cell_type": "markdown",
   "metadata": {},
   "source": [
    "Rerunning the above cell provides enough samples to get an idea of the dataset. Seems the dataset is grey scale"
   ]
  },
  {
   "cell_type": "markdown",
   "metadata": {},
   "source": [
    "## Preparing the data"
   ]
  },
  {
   "cell_type": "markdown",
   "metadata": {},
   "source": [
    "We need `DataLoaders` to point out the list of transformations that are to be done to the data for preparing for training. Luckily, we have `ImageDataLoaders.from_df` method to get an handy function for generating the dataloader. We use that here"
   ]
  },
  {
   "cell_type": "markdown",
   "metadata": {},
   "source": [
    "There are couple of things to note on the decision of parameters:\n",
    "- First parameter is the dataframe itself\n",
    "-`label_col` is the column which has the list of labels\n",
    "- `path` must specify the path where the images are stored\n",
    "- `suff` is the suffix that must be added to all the filenames. In short the file extensions\n",
    "- `label_delim` specifies the delimiter that segregates two labels apart (in the `label_col`\n",
    "- `item_tfms` specifies the item level transformations that must be done. Here we are just doing resizing of original image to 224*224 image size. \n",
    "\n",
    "> The idea of using Squish to resize was because I am guessing cropping might remove some of the features. Especially after looking at some label names like `loop_scattering` , `non-uniform_detector` or `strong_background`. `loop_scattering` is fairly obvious there seems to be some disturbance in the rings which is that that obvious in the inner rings. cropping might not be that useful. \n",
    "\n",
    "Note: The Default augmentations are not added on purpose as brighness, contrast can affect the `strong_background` feature "
   ]
  },
  {
   "cell_type": "code",
   "execution_count": 13,
   "metadata": {},
   "outputs": [],
   "source": [
    "def generate_dataloaders( df, path='.', valid_pct=0.2, seed=None, fn_col=0, folder=None, suff='', label_col=1, label_delim=None,\n",
    "            y_block=None,x_block=None, valid_col=None, item_tfms=None, batch_tfms=None, **kwargs):\n",
    "    \"Create from `df` using `fn_col` and `label_col`\"\n",
    "    pref = f'{Path(path) if folder is None else Path(path)/folder}{os.path.sep}'\n",
    "    if y_block is None:\n",
    "        is_multi = (is_listy(label_col) and len(label_col) > 1) or label_delim is not None\n",
    "        y_block = MultiCategoryBlock if is_multi else CategoryBlock\n",
    "    if x_block is None:\n",
    "        x_block=ImageBlock\n",
    "    splitter = RandomSplitter(valid_pct, seed=seed) if valid_col is None else ColSplitter(valid_col)\n",
    "    dblock = DataBlock(blocks=(x_block, y_block),\n",
    "                       get_x=ColReader(fn_col, pref=pref, suff=suff),\n",
    "                       get_y=ColReader(label_col, label_delim=label_delim),\n",
    "                       splitter=splitter,\n",
    "                       item_tfms=item_tfms,\n",
    "                       batch_tfms=batch_tfms)\n",
    "    return DataLoaders.from_dblock(dblock, df, path=path, **kwargs)"
   ]
  },
  {
   "cell_type": "code",
   "execution_count": null,
   "metadata": {},
   "outputs": [],
   "source": [
    "#hide\n",
    "run_name='Basic Resnet 16 - 48 Pix - 32 Batch'\n",
    "wandb.init(project='Multi-Class X-Ray Diffractions Detector', name=run_name,resume=True)"
   ]
  },
  {
   "cell_type": "markdown",
   "metadata": {},
   "source": [
    "We now create the dataloader with this data frame:\n",
    "\n",
    "* `x_block` might be the black and white monochrome image. \n",
    "* `path` specifies the location of images\n",
    "* `label_col` specifies the column where the dependent variable is available.\n",
    "* `label_delim` soecies the delimiter that splits the labels available in `label_col`\n",
    "* `suff` adds the suffix to the image.\n",
    "* `item_tfms` specifies the transformation to be done at item level. Here we resize to a **48*48** image by squishing so that the entire image is given\n",
    "* `bs` specifies the `batc_size` to be used"
   ]
  },
  {
   "cell_type": "code",
   "execution_count": 16,
   "metadata": {},
   "outputs": [],
   "source": [
    "dataloaders=generate_dataloaders(labels_df,x_block=ImageBlock(PILImageBW),label_col='labels',path=path/'images',suff='.png',label_delim=', ',item_tfms=Resize(48,ResizeMethod.Squish),bs=128)"
   ]
  },
  {
   "cell_type": "markdown",
   "metadata": {},
   "source": [
    "Lets get a batch of data and see if we have a have the shape of input as we expect."
   ]
  },
  {
   "cell_type": "code",
   "execution_count": 17,
   "metadata": {},
   "outputs": [
    {
     "data": {
      "text/plain": [
       "torch.Size([128, 1, 48, 48])"
      ]
     },
     "execution_count": 17,
     "metadata": {},
     "output_type": "execute_result"
    }
   ],
   "source": [
    "dataloaders.one_batch()[0].shape"
   ]
  },
  {
   "cell_type": "markdown",
   "metadata": {},
   "source": [
    "The default `bs` being 128, images having 1 channels after resizing the image to 48*48 the shape seem reasonable"
   ]
  },
  {
   "cell_type": "markdown",
   "metadata": {},
   "source": [
    "Let's see some random image out of it and see if we have everything right"
   ]
  },
  {
   "cell_type": "code",
   "execution_count": 19,
   "metadata": {
    "scrolled": false
   },
   "outputs": [
    {
     "data": {
      "image/png": "[encoded data removed]",
      "text/plain": [
       "<Figure size 648x648 with 9 Axes>"
      ]
     },
     "metadata": {
      "needs_background": "light"
     },
     "output_type": "display_data"
    }
   ],
   "source": [
    "dataloaders.show_batch(max_n=9)"
   ]
  },
  {
   "cell_type": "markdown",
   "metadata": {},
   "source": [
    "## Training"
   ]
  },
  {
   "cell_type": "markdown",
   "metadata": {},
   "source": [
    "Now we use a pretrained *Resnet18* and use the train for this perticular dataset"
   ]
  },
  {
   "cell_type": "markdown",
   "metadata": {},
   "source": [
    "> Note: We are using the pretrained Resnet18 via Transfer Learning, which basically means that we are using a model that is already trained for doing good at something else (which is to predict classes in ImageNet here) to do our task. This reduces the traning time."
   ]
  },
  {
   "cell_type": "code",
   "execution_count": 20,
   "metadata": {
    "scrolled": true
   },
   "outputs": [],
   "source": [
    "learn = cnn_learner(dataloaders, resnet18, metrics=partial(accuracy_multi, thresh=0.5), cbs=WandbCallback())"
   ]
  },
  {
   "cell_type": "markdown",
   "metadata": {},
   "source": [
    "`lr_find` is an useful functionality that is useful in finding optimal learning rqate for training. It outputs the graph and the two values onw which specifies the lr where the loss was at its least and other one at the steepest slope. The steepest slope is the interest for us for most of the cases"
   ]
  },
  {
   "cell_type": "code",
   "execution_count": 21,
   "metadata": {
    "scrolled": true
   },
   "outputs": [
    {
     "data": {
      "text/html": [],
      "text/plain": [
       "<IPython.core.display.HTML object>"
      ]
     },
     "metadata": {},
     "output_type": "display_data"
    },
    {
     "data": {
      "text/plain": [
       "SuggestedLRs(lr_min=0.014454397559165954, lr_steep=0.03981071710586548)"
      ]
     },
     "execution_count": 21,
     "metadata": {},
     "output_type": "execute_result"
    },
    {
     "data": {
      "image/png": "[encoded data removed]",
      "text/plain": [
       "<Figure size 432x288 with 1 Axes>"
      ]
     },
     "metadata": {
      "needs_background": "light"
     },
     "output_type": "display_data"
    }
   ],
   "source": [
    "learn.lr_find()"
   ]
  },
  {
   "cell_type": "markdown",
   "metadata": {},
   "source": [
    "`fine_tune` tunes the newly introduced layer for one epoch and *unfreeses* the previous layers for training for the later epochs. We would see two tables representing its loss and other metrics for the same reason "
   ]
  },
  {
   "cell_type": "code",
   "execution_count": 22,
   "metadata": {},
   "outputs": [
    {
     "name": "stderr",
     "output_type": "stream",
     "text": [
      "\u001b[34m\u001b[1mwandb\u001b[0m: Wandb version 0.8.34 is available!  To upgrade, please run:\n",
      "\u001b[34m\u001b[1mwandb\u001b[0m:  $ pip install wandb --upgrade\n"
     ]
    },
    {
     "data": {
      "text/html": [
       "<table border=\"1\" class=\"dataframe\">\n",
       "  <thead>\n",
       "    <tr style=\"text-align: left;\">\n",
       "      <th>epoch</th>\n",
       "      <th>train_loss</th>\n",
       "      <th>valid_loss</th>\n",
       "      <th>accuracy_multi</th>\n",
       "      <th>time</th>\n",
       "    </tr>\n",
       "  </thead>\n",
       "  <tbody>\n",
       "    <tr>\n",
       "      <td>0</td>\n",
       "      <td>0.495263</td>\n",
       "      <td>0.373240</td>\n",
       "      <td>0.831220</td>\n",
       "      <td>00:22</td>\n",
       "    </tr>\n",
       "  </tbody>\n",
       "</table>"
      ],
      "text/plain": [
       "<IPython.core.display.HTML object>"
      ]
     },
     "metadata": {},
     "output_type": "display_data"
    },
    {
     "data": {
      "text/html": [
       "<table border=\"1\" class=\"dataframe\">\n",
       "  <thead>\n",
       "    <tr style=\"text-align: left;\">\n",
       "      <th>epoch</th>\n",
       "      <th>train_loss</th>\n",
       "      <th>valid_loss</th>\n",
       "      <th>accuracy_multi</th>\n",
       "      <th>time</th>\n",
       "    </tr>\n",
       "  </thead>\n",
       "  <tbody>\n",
       "    <tr>\n",
       "      <td>0</td>\n",
       "      <td>0.349745</td>\n",
       "      <td>0.311832</td>\n",
       "      <td>0.872538</td>\n",
       "      <td>00:23</td>\n",
       "    </tr>\n",
       "    <tr>\n",
       "      <td>1</td>\n",
       "      <td>0.338403</td>\n",
       "      <td>0.339598</td>\n",
       "      <td>0.850351</td>\n",
       "      <td>00:24</td>\n",
       "    </tr>\n",
       "    <tr>\n",
       "      <td>2</td>\n",
       "      <td>0.339028</td>\n",
       "      <td>0.308806</td>\n",
       "      <td>0.875481</td>\n",
       "      <td>00:23</td>\n",
       "    </tr>\n",
       "    <tr>\n",
       "      <td>3</td>\n",
       "      <td>0.318818</td>\n",
       "      <td>0.334795</td>\n",
       "      <td>0.861444</td>\n",
       "      <td>00:23</td>\n",
       "    </tr>\n",
       "    <tr>\n",
       "      <td>4</td>\n",
       "      <td>0.294721</td>\n",
       "      <td>0.269664</td>\n",
       "      <td>0.890424</td>\n",
       "      <td>00:22</td>\n",
       "    </tr>\n",
       "    <tr>\n",
       "      <td>5</td>\n",
       "      <td>0.254378</td>\n",
       "      <td>0.249635</td>\n",
       "      <td>0.901064</td>\n",
       "      <td>00:23</td>\n",
       "    </tr>\n",
       "    <tr>\n",
       "      <td>6</td>\n",
       "      <td>0.220228</td>\n",
       "      <td>0.236530</td>\n",
       "      <td>0.910233</td>\n",
       "      <td>00:23</td>\n",
       "    </tr>\n",
       "    <tr>\n",
       "      <td>7</td>\n",
       "      <td>0.177766</td>\n",
       "      <td>0.221808</td>\n",
       "      <td>0.916459</td>\n",
       "      <td>00:22</td>\n",
       "    </tr>\n",
       "    <tr>\n",
       "      <td>8</td>\n",
       "      <td>0.150120</td>\n",
       "      <td>0.213772</td>\n",
       "      <td>0.923251</td>\n",
       "      <td>00:22</td>\n",
       "    </tr>\n",
       "    <tr>\n",
       "      <td>9</td>\n",
       "      <td>0.131988</td>\n",
       "      <td>0.215067</td>\n",
       "      <td>0.923817</td>\n",
       "      <td>00:23</td>\n",
       "    </tr>\n",
       "  </tbody>\n",
       "</table>"
      ],
      "text/plain": [
       "<IPython.core.display.HTML object>"
      ]
     },
     "metadata": {},
     "output_type": "display_data"
    }
   ],
   "source": [
    "learn.fine_tune(10, 4e-2)"
   ]
  },
  {
   "cell_type": "markdown",
   "metadata": {},
   "source": [
    "So, I tried running through various experiments. The code below helps in loading the previous saved model. I save models which have better accuracies and use it as a starting point for going further."
   ]
  },
  {
   "cell_type": "code",
   "execution_count": 32,
   "metadata": {},
   "outputs": [],
   "source": [
    "learn=learn.load(run_name+'.h5')"
   ]
  },
  {
   "cell_type": "markdown",
   "metadata": {},
   "source": [
    "For this experiment I didnt change architecture much. I tried changing the image size and batch_size and learning_rate. Choosing the learning rate after initial training is little hard. Thanks to W&B I could see the learning rate for various epochs. I chose the lr which had the slopiest accuracy improvement at the end of the training and updated it"
   ]
  },
  {
   "cell_type": "code",
   "execution_count": 39,
   "metadata": {
    "scrolled": true
   },
   "outputs": [
    {
     "name": "stderr",
     "output_type": "stream",
     "text": [
      "\u001b[34m\u001b[1mwandb\u001b[0m: Wandb version 0.8.34 is available!  To upgrade, please run:\n",
      "\u001b[34m\u001b[1mwandb\u001b[0m:  $ pip install wandb --upgrade\n"
     ]
    },
    {
     "data": {
      "text/html": [
       "<table border=\"1\" class=\"dataframe\">\n",
       "  <thead>\n",
       "    <tr style=\"text-align: left;\">\n",
       "      <th>epoch</th>\n",
       "      <th>train_loss</th>\n",
       "      <th>valid_loss</th>\n",
       "      <th>accuracy_multi</th>\n",
       "      <th>time</th>\n",
       "    </tr>\n",
       "  </thead>\n",
       "  <tbody>\n",
       "    <tr>\n",
       "      <td>0</td>\n",
       "      <td>0.047517</td>\n",
       "      <td>0.220021</td>\n",
       "      <td>0.932194</td>\n",
       "      <td>00:22</td>\n",
       "    </tr>\n",
       "    <tr>\n",
       "      <td>1</td>\n",
       "      <td>0.048205</td>\n",
       "      <td>0.219809</td>\n",
       "      <td>0.931515</td>\n",
       "      <td>00:22</td>\n",
       "    </tr>\n",
       "    <tr>\n",
       "      <td>2</td>\n",
       "      <td>0.047783</td>\n",
       "      <td>0.223721</td>\n",
       "      <td>0.931062</td>\n",
       "      <td>00:22</td>\n",
       "    </tr>\n",
       "    <tr>\n",
       "      <td>3</td>\n",
       "      <td>0.047295</td>\n",
       "      <td>0.223825</td>\n",
       "      <td>0.929477</td>\n",
       "      <td>00:22</td>\n",
       "    </tr>\n",
       "    <tr>\n",
       "      <td>4</td>\n",
       "      <td>0.045167</td>\n",
       "      <td>0.222147</td>\n",
       "      <td>0.930383</td>\n",
       "      <td>00:22</td>\n",
       "    </tr>\n",
       "    <tr>\n",
       "      <td>5</td>\n",
       "      <td>0.043862</td>\n",
       "      <td>0.222521</td>\n",
       "      <td>0.931288</td>\n",
       "      <td>00:22</td>\n",
       "    </tr>\n",
       "    <tr>\n",
       "      <td>6</td>\n",
       "      <td>0.045675</td>\n",
       "      <td>0.222911</td>\n",
       "      <td>0.928911</td>\n",
       "      <td>00:22</td>\n",
       "    </tr>\n",
       "    <tr>\n",
       "      <td>7</td>\n",
       "      <td>0.044050</td>\n",
       "      <td>0.223413</td>\n",
       "      <td>0.929364</td>\n",
       "      <td>00:22</td>\n",
       "    </tr>\n",
       "    <tr>\n",
       "      <td>8</td>\n",
       "      <td>0.046282</td>\n",
       "      <td>0.224207</td>\n",
       "      <td>0.930722</td>\n",
       "      <td>00:23</td>\n",
       "    </tr>\n",
       "    <tr>\n",
       "      <td>9</td>\n",
       "      <td>0.045452</td>\n",
       "      <td>0.220096</td>\n",
       "      <td>0.930156</td>\n",
       "      <td>00:23</td>\n",
       "    </tr>\n",
       "  </tbody>\n",
       "</table>"
      ],
      "text/plain": [
       "<IPython.core.display.HTML object>"
      ]
     },
     "metadata": {},
     "output_type": "display_data"
    }
   ],
   "source": [
    "learn.fit_one_cycle(10,1e-6)"
   ]
  },
  {
   "cell_type": "markdown",
   "metadata": {},
   "source": [
    "We would have to save the model for later inference"
   ]
  },
  {
   "cell_type": "code",
   "execution_count": 36,
   "metadata": {},
   "outputs": [
    {
     "data": {
      "text/plain": [
       "[]"
      ]
     },
     "execution_count": 36,
     "metadata": {},
     "output_type": "execute_result"
    }
   ],
   "source": [
    "learn.save(run_name+'.h5')\n",
    "wandb.save(run_name+'.h5')"
   ]
  },
  {
   "cell_type": "markdown",
   "metadata": {},
   "source": [
    "## Results"
   ]
  },
  {
   "cell_type": "markdown",
   "metadata": {},
   "source": [
    "Of some of the experiments we did, we saw the results as follows:"
   ]
  },
  {
   "cell_type": "markdown",
   "metadata": {},
   "source": [
    "\n",
    "| Run name | Image Size | Performance | Batch Size |\n",
    "|----------|---|---------|--|\n",
    "| Basic Resnet 16 | 224 | 0.941193 | Default |\n",
    "| Basic Resnet 16 - 48 (256) | 48 | 0.926874 | 256 |\n",
    "| Basic Resnet 16 - 48 (128) | 48 | 0.938307 | 128 |\n",
    "| Basic Resnet 16 - 48 (64) | 48 | 0.936382 | 64 |\n",
    "| Basic Resnet 16 - 48 (32) | 48 | 0.931741 | 32 |\n"
   ]
  },
  {
   "cell_type": "markdown",
   "metadata": {},
   "source": [
    "### Which Model to choose:\n",
    "\n",
    "Of some of the various experiments trained, we didnt include any of them when them were we used 3 channels as input simply because it gave the same result but occupying more weights for model anf might have slightly more time to train for infer.\n",
    "\n",
    "> Note: One of the decision to take is between Run 1 and Run 3.\n",
    "\n",
    "Run 1 has around 0.3% more accuracy than Run 3 but it uses bigger image. This means:\n",
    "* Model of Run 1 is bigger than Run 3\n",
    "* Run 1 might take more time to train or infer than Run 3\n",
    "\n",
    "> Tip: If the usecase allows a slightly accurate model always prefer the smaller model"
   ]
  },
  {
   "cell_type": "markdown",
   "metadata": {},
   "source": [
    "## Prediction"
   ]
  },
  {
   "cell_type": "markdown",
   "metadata": {},
   "source": [
    "X-Ray images are less popular. So I am choosing a image from the validation set to check how it is predicting. To do so, first lets look at validation image."
   ]
  },
  {
   "cell_type": "code",
   "execution_count": 55,
   "metadata": {},
   "outputs": [
    {
     "data": {
      "text/html": [
       "<div>\n",
       "<style scoped>\n",
       "    .dataframe tbody tr th:only-of-type {\n",
       "        vertical-align: middle;\n",
       "    }\n",
       "\n",
       "    .dataframe tbody tr th {\n",
       "        vertical-align: top;\n",
       "    }\n",
       "\n",
       "    .dataframe thead th {\n",
       "        text-align: right;\n",
       "    }\n",
       "</style>\n",
       "<table border=\"1\" class=\"dataframe\">\n",
       "  <thead>\n",
       "    <tr style=\"text-align: right;\">\n",
       "      <th></th>\n",
       "      <th>image</th>\n",
       "      <th>labels</th>\n",
       "    </tr>\n",
       "  </thead>\n",
       "  <tbody>\n",
       "    <tr>\n",
       "      <th>3762</th>\n",
       "      <td>49967_1_E2_001</td>\n",
       "      <td>background_ring, diffuse_scattering</td>\n",
       "    </tr>\n",
       "    <tr>\n",
       "      <th>4146</th>\n",
       "      <td>9172_1_E1_001</td>\n",
       "      <td>loop_scattering, background_ring, non_uniform_detector</td>\n",
       "    </tr>\n",
       "    <tr>\n",
       "      <th>6190</th>\n",
       "      <td>ATPM1E10gly-peak.0001</td>\n",
       "      <td>background_ring, non_uniform_detector</td>\n",
       "    </tr>\n",
       "    <tr>\n",
       "      <th>1845</th>\n",
       "      <td>15533_1_E2_001</td>\n",
       "      <td>loop_scattering, strong_background</td>\n",
       "    </tr>\n",
       "    <tr>\n",
       "      <th>4903</th>\n",
       "      <td>r9_3.0001</td>\n",
       "      <td>background_ring</td>\n",
       "    </tr>\n",
       "    <tr>\n",
       "      <th>...</th>\n",
       "      <td>...</td>\n",
       "      <td>...</td>\n",
       "    </tr>\n",
       "    <tr>\n",
       "      <th>2584</th>\n",
       "      <td>120919_1_E1_001</td>\n",
       "      <td>loop_scattering, strong_background</td>\n",
       "    </tr>\n",
       "    <tr>\n",
       "      <th>2800</th>\n",
       "      <td>93400_1_E2_001</td>\n",
       "      <td>loop_scattering, background_ring, non_uniform_detector</td>\n",
       "    </tr>\n",
       "    <tr>\n",
       "      <th>1869</th>\n",
       "      <td>64132_2</td>\n",
       "      <td>background_ring, diffuse_scattering</td>\n",
       "    </tr>\n",
       "    <tr>\n",
       "      <th>2555</th>\n",
       "      <td>K16_ok2</td>\n",
       "      <td></td>\n",
       "    </tr>\n",
       "    <tr>\n",
       "      <th>5205</th>\n",
       "      <td>foj9-16_4</td>\n",
       "      <td>loop_scattering, background_ring, ice_ring</td>\n",
       "    </tr>\n",
       "  </tbody>\n",
       "</table>\n",
       "<p>1262 rows × 2 columns</p>\n",
       "</div>"
      ],
      "text/plain": [
       "                      image  \\\n",
       "3762         49967_1_E2_001   \n",
       "4146          9172_1_E1_001   \n",
       "6190  ATPM1E10gly-peak.0001   \n",
       "1845         15533_1_E2_001   \n",
       "4903              r9_3.0001   \n",
       "...                     ...   \n",
       "2584        120919_1_E1_001   \n",
       "2800         93400_1_E2_001   \n",
       "1869                64132_2   \n",
       "2555                K16_ok2   \n",
       "5205              foj9-16_4   \n",
       "\n",
       "                                                      labels  \n",
       "3762                     background_ring, diffuse_scattering  \n",
       "4146  loop_scattering, background_ring, non_uniform_detector  \n",
       "6190                   background_ring, non_uniform_detector  \n",
       "1845                      loop_scattering, strong_background  \n",
       "4903                                         background_ring  \n",
       "...                                                      ...  \n",
       "2584                      loop_scattering, strong_background  \n",
       "2800  loop_scattering, background_ring, non_uniform_detector  \n",
       "1869                     background_ring, diffuse_scattering  \n",
       "2555                                                          \n",
       "5205              loop_scattering, background_ring, ice_ring  \n",
       "\n",
       "[1262 rows x 2 columns]"
      ]
     },
     "execution_count": 55,
     "metadata": {},
     "output_type": "execute_result"
    }
   ],
   "source": [
    "learn.dls.valid_ds.items[['image','labels']]"
   ]
  },
  {
   "cell_type": "markdown",
   "metadata": {},
   "source": [
    "I am choosing the second one as a random image to test"
   ]
  },
  {
   "cell_type": "code",
   "execution_count": 64,
   "metadata": {},
   "outputs": [
    {
     "data": {
      "text/html": [],
      "text/plain": [
       "<IPython.core.display.HTML object>"
      ]
     },
     "metadata": {},
     "output_type": "display_data"
    },
    {
     "data": {
      "text/plain": [
       "((#3) ['background_ring','loop_scattering','non_uniform_detector'],\n",
       " tensor([False,  True, False, False,  True,  True, False]),\n",
       " tensor([6.4019e-03, 9.9865e-01, 3.6687e-02, 7.4511e-06, 9.9855e-01, 9.6328e-01,\n",
       "         6.6407e-04]))"
      ]
     },
     "execution_count": 64,
     "metadata": {},
     "output_type": "execute_result"
    }
   ],
   "source": [
    "learn.predict(path/'images/9172_1_E1_001.png')"
   ]
  },
  {
   "cell_type": "markdown",
   "metadata": {},
   "source": [
    "Here it provides the Predicted labels, The One Hot Encoding values infered and the actual tensor values of the model. \n",
    "\n",
    "We also see that this label prediction is indeed correct"
   ]
  },
  {
   "cell_type": "markdown",
   "metadata": {},
   "source": [
    "## Conclusion"
   ]
  },
  {
   "cell_type": "markdown",
   "metadata": {},
   "source": [
    "The Idea of this blog is to go through a simple Multi-Label Image Classifer. Though there are lots of other options that could have experimented with, simge the dataset was relatively simple and accuracy seem good enough, we leave them here. \n",
    "\n",
    "We can try a different dataset which demands more accuracy in a different blog post\n",
    "\n",
    "Kindly let know your comments on the same"
   ]
  }
 ],
 "metadata": {
  "kernelspec": {
   "display_name": "fastai2-dev",
   "language": "python",
   "name": "fastai2-dev"
  },
  "language_info": {
   "codemirror_mode": {
    "name": "ipython",
    "version": 3
   },
   "file_extension": ".py",
   "mimetype": "text/x-python",
   "name": "python",
   "nbconvert_exporter": "python",
   "pygments_lexer": "ipython3",
   "version": "3.7.7"
  }
 },
 "nbformat": 4,
 "nbformat_minor": 2
}
